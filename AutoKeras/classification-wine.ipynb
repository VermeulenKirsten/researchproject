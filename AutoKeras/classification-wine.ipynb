{
 "metadata": {
  "language_info": {
   "codemirror_mode": {
    "name": "ipython",
    "version": 3
   },
   "file_extension": ".py",
   "mimetype": "text/x-python",
   "name": "python",
   "nbconvert_exporter": "python",
   "pygments_lexer": "ipython3",
   "version": "3.8.6-final"
  },
  "orig_nbformat": 2,
  "kernelspec": {
   "name": "python3",
   "display_name": "Python 3",
   "language": "python"
  }
 },
 "nbformat": 4,
 "nbformat_minor": 2,
 "cells": [
  {
   "source": [
    "## Imports"
   ],
   "cell_type": "markdown",
   "metadata": {}
  },
  {
   "cell_type": "code",
   "execution_count": 1,
   "metadata": {},
   "outputs": [],
   "source": [
    "import os\n",
    "\n",
    "from pandas import read_csv\n",
    "\n",
    "from sklearn.model_selection import train_test_split\n",
    "\n",
    "from autokeras import StructuredDataClassifier"
   ]
  },
  {
   "source": [
    "## Main"
   ],
   "cell_type": "markdown",
   "metadata": {}
  },
  {
   "cell_type": "code",
   "execution_count": 2,
   "metadata": {},
   "outputs": [
    {
     "output_type": "stream",
     "name": "stdout",
     "text": [
      "(178, 14)\n"
     ]
    }
   ],
   "source": [
    "# Load dataset\n",
    "data_path = '../../Data/wine_data.csv'\n",
    "df = read_csv(data_path)\n",
    "print(df.shape)"
   ]
  },
  {
   "cell_type": "code",
   "execution_count": 3,
   "metadata": {},
   "outputs": [
    {
     "output_type": "execute_result",
     "data": {
      "text/plain": [
       "   inputs Alcohol  MalicAcid   Ash  AlcalinityOfAsh  Magnesium  TotalPhenols  \\\n",
       "0           12.08       1.33  2.30             23.6         70          2.20   \n",
       "1           12.08       1.13  2.51             24.0         78          2.00   \n",
       "2           12.37       1.17  1.92             19.6         78          2.11   \n",
       "3           13.11       1.01  1.70             15.0         78          2.98   \n",
       "4           12.04       4.30  2.38             22.0         80          2.10   \n",
       "5           12.25       1.73  2.12             19.0         80          1.65   \n",
       "6           12.69       1.53  2.26             20.7         80          1.38   \n",
       "7           12.77       3.43  1.98             16.0         80          1.63   \n",
       "8           13.88       5.04  2.23             20.0         80          0.98   \n",
       "9           12.08       1.83  2.32             18.5         81          1.60   \n",
       "\n",
       "   flavanoids  NonflavanoidsPhenols  Proanthocyanins  ColorIntensity   Hue  \\\n",
       "0        1.59                  0.42             1.38            1.74  1.07   \n",
       "1        1.58                  0.40             1.40            2.20  1.31   \n",
       "2        2.00                  0.27             1.04            4.68  1.12   \n",
       "3        3.18                  0.26             2.28            5.30  1.12   \n",
       "4        1.75                  0.42             1.35            2.60  0.79   \n",
       "5        2.03                  0.37             1.63            3.40  1.00   \n",
       "6        1.46                  0.58             1.62            3.05  0.96   \n",
       "7        1.25                  0.43             0.83            3.40  0.70   \n",
       "8        0.34                  0.40             0.68            4.90  0.58   \n",
       "9        1.50                  0.52             1.64            2.40  1.08   \n",
       "\n",
       "   OD280/OD315  Proline  Cultivar  \n",
       "0         3.21      625         1  \n",
       "1         2.72      630         1  \n",
       "2         3.48      510         1  \n",
       "3         3.18      502         1  \n",
       "4         2.57      580         1  \n",
       "5         3.17      510         1  \n",
       "6         2.06      495         1  \n",
       "7         2.12      372         1  \n",
       "8         1.33      415         2  \n",
       "9         2.27      480         1  "
      ],
      "text/html": "<div>\n<style scoped>\n    .dataframe tbody tr th:only-of-type {\n        vertical-align: middle;\n    }\n\n    .dataframe tbody tr th {\n        vertical-align: top;\n    }\n\n    .dataframe thead th {\n        text-align: right;\n    }\n</style>\n<table border=\"1\" class=\"dataframe\">\n  <thead>\n    <tr style=\"text-align: right;\">\n      <th></th>\n      <th>inputs Alcohol</th>\n      <th>MalicAcid</th>\n      <th>Ash</th>\n      <th>AlcalinityOfAsh</th>\n      <th>Magnesium</th>\n      <th>TotalPhenols</th>\n      <th>flavanoids</th>\n      <th>NonflavanoidsPhenols</th>\n      <th>Proanthocyanins</th>\n      <th>ColorIntensity</th>\n      <th>Hue</th>\n      <th>OD280/OD315</th>\n      <th>Proline</th>\n      <th>Cultivar</th>\n    </tr>\n  </thead>\n  <tbody>\n    <tr>\n      <th>0</th>\n      <td>12.08</td>\n      <td>1.33</td>\n      <td>2.30</td>\n      <td>23.6</td>\n      <td>70</td>\n      <td>2.20</td>\n      <td>1.59</td>\n      <td>0.42</td>\n      <td>1.38</td>\n      <td>1.74</td>\n      <td>1.07</td>\n      <td>3.21</td>\n      <td>625</td>\n      <td>1</td>\n    </tr>\n    <tr>\n      <th>1</th>\n      <td>12.08</td>\n      <td>1.13</td>\n      <td>2.51</td>\n      <td>24.0</td>\n      <td>78</td>\n      <td>2.00</td>\n      <td>1.58</td>\n      <td>0.40</td>\n      <td>1.40</td>\n      <td>2.20</td>\n      <td>1.31</td>\n      <td>2.72</td>\n      <td>630</td>\n      <td>1</td>\n    </tr>\n    <tr>\n      <th>2</th>\n      <td>12.37</td>\n      <td>1.17</td>\n      <td>1.92</td>\n      <td>19.6</td>\n      <td>78</td>\n      <td>2.11</td>\n      <td>2.00</td>\n      <td>0.27</td>\n      <td>1.04</td>\n      <td>4.68</td>\n      <td>1.12</td>\n      <td>3.48</td>\n      <td>510</td>\n      <td>1</td>\n    </tr>\n    <tr>\n      <th>3</th>\n      <td>13.11</td>\n      <td>1.01</td>\n      <td>1.70</td>\n      <td>15.0</td>\n      <td>78</td>\n      <td>2.98</td>\n      <td>3.18</td>\n      <td>0.26</td>\n      <td>2.28</td>\n      <td>5.30</td>\n      <td>1.12</td>\n      <td>3.18</td>\n      <td>502</td>\n      <td>1</td>\n    </tr>\n    <tr>\n      <th>4</th>\n      <td>12.04</td>\n      <td>4.30</td>\n      <td>2.38</td>\n      <td>22.0</td>\n      <td>80</td>\n      <td>2.10</td>\n      <td>1.75</td>\n      <td>0.42</td>\n      <td>1.35</td>\n      <td>2.60</td>\n      <td>0.79</td>\n      <td>2.57</td>\n      <td>580</td>\n      <td>1</td>\n    </tr>\n    <tr>\n      <th>5</th>\n      <td>12.25</td>\n      <td>1.73</td>\n      <td>2.12</td>\n      <td>19.0</td>\n      <td>80</td>\n      <td>1.65</td>\n      <td>2.03</td>\n      <td>0.37</td>\n      <td>1.63</td>\n      <td>3.40</td>\n      <td>1.00</td>\n      <td>3.17</td>\n      <td>510</td>\n      <td>1</td>\n    </tr>\n    <tr>\n      <th>6</th>\n      <td>12.69</td>\n      <td>1.53</td>\n      <td>2.26</td>\n      <td>20.7</td>\n      <td>80</td>\n      <td>1.38</td>\n      <td>1.46</td>\n      <td>0.58</td>\n      <td>1.62</td>\n      <td>3.05</td>\n      <td>0.96</td>\n      <td>2.06</td>\n      <td>495</td>\n      <td>1</td>\n    </tr>\n    <tr>\n      <th>7</th>\n      <td>12.77</td>\n      <td>3.43</td>\n      <td>1.98</td>\n      <td>16.0</td>\n      <td>80</td>\n      <td>1.63</td>\n      <td>1.25</td>\n      <td>0.43</td>\n      <td>0.83</td>\n      <td>3.40</td>\n      <td>0.70</td>\n      <td>2.12</td>\n      <td>372</td>\n      <td>1</td>\n    </tr>\n    <tr>\n      <th>8</th>\n      <td>13.88</td>\n      <td>5.04</td>\n      <td>2.23</td>\n      <td>20.0</td>\n      <td>80</td>\n      <td>0.98</td>\n      <td>0.34</td>\n      <td>0.40</td>\n      <td>0.68</td>\n      <td>4.90</td>\n      <td>0.58</td>\n      <td>1.33</td>\n      <td>415</td>\n      <td>2</td>\n    </tr>\n    <tr>\n      <th>9</th>\n      <td>12.08</td>\n      <td>1.83</td>\n      <td>2.32</td>\n      <td>18.5</td>\n      <td>81</td>\n      <td>1.60</td>\n      <td>1.50</td>\n      <td>0.52</td>\n      <td>1.64</td>\n      <td>2.40</td>\n      <td>1.08</td>\n      <td>2.27</td>\n      <td>480</td>\n      <td>1</td>\n    </tr>\n  </tbody>\n</table>\n</div>"
     },
     "metadata": {},
     "execution_count": 3
    }
   ],
   "source": [
    "df.head(10)"
   ]
  },
  {
   "cell_type": "code",
   "execution_count": 4,
   "metadata": {},
   "outputs": [
    {
     "output_type": "stream",
     "name": "stdout",
     "text": [
      "(178, 13) (178,)\n"
     ]
    }
   ],
   "source": [
    "# Split into input and output elements\n",
    "X = df.drop('Cultivar', axis=1).values\n",
    "y = df.Cultivar.values\n",
    "\n",
    "print(X.shape, y.shape)"
   ]
  },
  {
   "cell_type": "code",
   "execution_count": 5,
   "metadata": {},
   "outputs": [
    {
     "output_type": "stream",
     "name": "stdout",
     "text": [
      "(108, 13) (70, 13) (108,) (70,)\n"
     ]
    }
   ],
   "source": [
    "# Preprocessing\n",
    "\n",
    "X_train, X_test, y_train, y_test = train_test_split(X, y, test_size=70, random_state=1)\n",
    "print(X_train.shape, X_test.shape, y_train.shape, y_test.shape)"
   ]
  },
  {
   "cell_type": "code",
   "execution_count": 6,
   "metadata": {},
   "outputs": [
    {
     "output_type": "stream",
     "name": "stdout",
     "text": [
      "Trial 30 Complete [00h 01m 07s]\n",
      "val_accuracy: 1.0\n",
      "\n",
      "Best val_accuracy So Far: 1.0\n",
      "Total elapsed time: 00h 29m 59s\n",
      "INFO:tensorflow:Oracle triggered exit\n",
      "Epoch 1/19\n",
      "4/4 [==============================] - 1s 2ms/step - loss: 0.9780 - accuracy: 0.5293\n",
      "Epoch 2/19\n",
      "4/4 [==============================] - 0s 2ms/step - loss: 0.9079 - accuracy: 0.6405\n",
      "Epoch 3/19\n",
      "4/4 [==============================] - 0s 2ms/step - loss: 0.8452 - accuracy: 0.7354\n",
      "Epoch 4/19\n",
      "4/4 [==============================] - 0s 2ms/step - loss: 0.7857 - accuracy: 0.8198\n",
      "Epoch 5/19\n",
      "4/4 [==============================] - 0s 2ms/step - loss: 0.7290 - accuracy: 0.8623\n",
      "Epoch 6/19\n",
      "4/4 [==============================] - 0s 3ms/step - loss: 0.6741 - accuracy: 0.9131\n",
      "Epoch 7/19\n",
      "4/4 [==============================] - 0s 3ms/step - loss: 0.6211 - accuracy: 0.9189\n",
      "Epoch 8/19\n",
      "4/4 [==============================] - 0s 3ms/step - loss: 0.5697 - accuracy: 0.9278\n",
      "Epoch 9/19\n",
      "4/4 [==============================] - 0s 2ms/step - loss: 0.5202 - accuracy: 0.9429\n",
      "Epoch 10/19\n",
      "4/4 [==============================] - 0s 3ms/step - loss: 0.4730 - accuracy: 0.9429\n",
      "Epoch 11/19\n",
      "4/4 [==============================] - 0s 2ms/step - loss: 0.4278 - accuracy: 0.9581\n",
      "Epoch 12/19\n",
      "4/4 [==============================] - 0s 2ms/step - loss: 0.3856 - accuracy: 0.9581\n",
      "Epoch 13/19\n",
      "4/4 [==============================] - 0s 3ms/step - loss: 0.3469 - accuracy: 0.9581\n",
      "Epoch 14/19\n",
      "4/4 [==============================] - 0s 3ms/step - loss: 0.3122 - accuracy: 0.9581\n",
      "Epoch 15/19\n",
      "4/4 [==============================] - 0s 2ms/step - loss: 0.2813 - accuracy: 0.9581\n",
      "Epoch 16/19\n",
      "4/4 [==============================] - 0s 2ms/step - loss: 0.2536 - accuracy: 0.9581\n",
      "Epoch 17/19\n",
      "4/4 [==============================] - 0s 2ms/step - loss: 0.2291 - accuracy: 0.9733\n",
      "Epoch 18/19\n",
      "4/4 [==============================] - 0s 2ms/step - loss: 0.2075 - accuracy: 0.9791\n",
      "Epoch 19/19\n",
      "4/4 [==============================] - 0s 2ms/step - loss: 0.1882 - accuracy: 0.9942\n",
      "INFO:tensorflow:Assets written to: .\\structured_data_classifier\\best_model\\assets\n"
     ]
    }
   ],
   "source": [
    "# Searching\n",
    "\n",
    "search = StructuredDataClassifier(max_trials=30)\n",
    "\n",
    "search.fit(x=X_train, y=y_train, verbose=1)"
   ]
  },
  {
   "cell_type": "code",
   "execution_count": 7,
   "metadata": {},
   "outputs": [
    {
     "output_type": "stream",
     "name": "stdout",
     "text": [
      "3/3 [==============================] - 0s 2ms/step - loss: 0.1607 - accuracy: 0.9857\n",
      "Accuracy: 0.9857142567634583\n"
     ]
    }
   ],
   "source": [
    "# Evaluation\n",
    "loss, acc = search.evaluate(X_test, y_test, verbose=1)\n",
    "print(f'Accuracy: {acc}')"
   ]
  },
  {
   "cell_type": "code",
   "execution_count": 8,
   "metadata": {},
   "outputs": [
    {
     "output_type": "stream",
     "name": "stdout",
     "text": [
      "Model: \"model\"\n_________________________________________________________________\nLayer (type)                 Output Shape              Param #   \n=================================================================\ninput_1 (InputLayer)         [(None, 13)]              0         \n_________________________________________________________________\nmulti_category_encoding (Mul (None, 13)                0         \n_________________________________________________________________\nnormalization (Normalization (None, 13)                27        \n_________________________________________________________________\ndense (Dense)                (None, 32)                448       \n_________________________________________________________________\nre_lu (ReLU)                 (None, 32)                0         \n_________________________________________________________________\ndense_1 (Dense)              (None, 32)                1056      \n_________________________________________________________________\nre_lu_1 (ReLU)               (None, 32)                0         \n_________________________________________________________________\ndense_2 (Dense)              (None, 3)                 99        \n_________________________________________________________________\nclassification_head_1 (Softm (None, 3)                 0         \n=================================================================\nTotal params: 1,630\nTrainable params: 1,603\nNon-trainable params: 27\n_________________________________________________________________\n"
     ]
    }
   ],
   "source": [
    "# Get the best performing model\n",
    "model = search.export_model()\n",
    "\n",
    "model.summary()"
   ]
  },
  {
   "cell_type": "code",
   "execution_count": 9,
   "metadata": {},
   "outputs": [],
   "source": [
    "# Saving the model\n",
    "\n",
    "if not os.path.isdir('model'):\n",
    "    os.mkdir('model')\n",
    "\n",
    "model.save('model/wine.h5')"
   ]
  }
 ]
}