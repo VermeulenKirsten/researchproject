{
 "metadata": {
  "language_info": {
   "codemirror_mode": {
    "name": "ipython",
    "version": 3
   },
   "file_extension": ".py",
   "mimetype": "text/x-python",
   "name": "python",
   "nbconvert_exporter": "python",
   "pygments_lexer": "ipython3",
   "version": "3.8.6-final"
  },
  "orig_nbformat": 2,
  "kernelspec": {
   "name": "python3",
   "display_name": "Python 3",
   "language": "python"
  }
 },
 "nbformat": 4,
 "nbformat_minor": 2,
 "cells": [
  {
   "source": [
    "## Imports"
   ],
   "cell_type": "markdown",
   "metadata": {}
  },
  {
   "cell_type": "code",
   "execution_count": 1,
   "metadata": {},
   "outputs": [],
   "source": [
    "import numpy as np\n",
    "import tensorflow as tf\n",
    "\n",
    "from tensorflow.keras.datasets import mnist\n",
    "from tensorflow.keras.utils import to_categorical\n",
    "from tensorflow.python.keras.utils.data_utils import Sequence\n",
    "\n",
    "from autokeras import ImageClassifier"
   ]
  },
  {
   "source": [
    "## Main"
   ],
   "cell_type": "markdown",
   "metadata": {}
  },
  {
   "cell_type": "code",
   "execution_count": 2,
   "metadata": {},
   "outputs": [
    {
     "output_type": "stream",
     "name": "stdout",
     "text": [
      "(60000, 28, 28)\n(60000,)\n"
     ]
    }
   ],
   "source": [
    "# Load data\n",
    "\n",
    "(X_train, y_train), (X_test, y_test) = mnist.load_data()\n",
    "\n",
    "print(X_train.shape)\n",
    "print(y_train.shape)\n",
    "\n"
   ]
  },
  {
   "cell_type": "code",
   "execution_count": 3,
   "metadata": {},
   "outputs": [],
   "source": [
    "X_train = X_train[20000:]\n",
    "y_train = y_train[20000:]\n",
    "\n",
    "X_test = X_test[5000:]\n",
    "y_test = y_test[5000:]"
   ]
  },
  {
   "cell_type": "code",
   "execution_count": 4,
   "metadata": {},
   "outputs": [
    {
     "output_type": "stream",
     "name": "stdout",
     "text": [
      "[[  0   0   0   0   0   0   0   0   0   0   0   0   0   0   0   0   0   0\n    0   0   0   0   0   0   0   0   0   0]\n [  0   0   0   0   0   0   0   0   0   0   0   0   0   0   0   0   0   0\n    0   0   0   0   0   0   0   0   0   0]\n [  0   0   0   0   0   0   0   0   0   0   0   0   0   0   0   0   0   0\n    0   0   0   0   0   0   0   0   0   0]\n [  0   0   0   0   0   0   0   0   0   0   0   0   0   0   0   0   0   0\n    0   0   0   0   0   0   0   0   0   0]\n [  0   0   0   0   0   0   0   0   0   0   0   0   0   0   0   0   0   9\n   19  29 216 254 254 167   9   0   0   0]\n [  0   0   0   0   0   0   0   0   0   0   0   0   0   0   0   0  53 197\n  220 220 253 253 253 253 163   9   0   0]\n [  0   0   0   0   0   0   0   0   0   0   0   0   0  62 100 148 236 253\n  253 253 232 154 154 154 228 125   0   0]\n [  0   0   0   0   0   0   0   0   0  31 243 243 243 250 253 253 254 248\n  231 222  47   0   0   0   8   6   0   0]\n [  0   0   0   0   0   0   0   0   0 157 253 253 253 253 236 150 136  65\n    0   0   0   0   0   0   0   0   0   0]\n [  0   0   0   0   0   0   0   0   0 243 253 253 172 165  67   0   0   0\n    0   0   0   0   0   0   0   0   0   0]\n [  0   0   0   0   0   0   0   0  92 253 253 211  11   0   0   0   0   0\n    0   0   0   0   0   0   0   0   0   0]\n [  0   0   0   0   0   0   0   0 167 253 253  98   0   0   0   0   0   0\n    0   0   0   0   0   0   0   0   0   0]\n [  0   0   0   0   0   0   0  21 223 253 253 202 188 188 154 174 189 159\n   14   0   0   0   0   0   0   0   0   0]\n [  0   0   0   0   0   0   0 163 253 253 253 253 253 253 253 253 254 253\n  227 221 125   0   0   0   0   0   0   0]\n [  0   0   0   0   0   0   0 178 254 254 254 254 254 254 244 236 241 254\n  254 254 230  46   0   0   0   0   0   0]\n [  0   0   0   0   0   0   0 100 253 253 239 187 187 120  54  34  44  77\n  121 251 253 188   6   0   0   0   0   0]\n [  0   0   0   0   0   0   0  12 135  48  34   0   0   0   0   0   0   0\n    0 243 253 253  22   0   0   0   0   0]\n [  0   0   0   0   0   0   0   0   0   0   0   0   0   0   0   0   0   0\n   53 249 253 207  11   0   0   0   0   0]\n [  0   0   0   0   0   0   0  39 100 128   0   0   0   0   0   0   0   0\n  172 253 241 129   0   0   0   0   0   0]\n [  0   0   0   0   0   0  65 237 219  79   0   0   0   0   0   0  12 166\n  244 253 159   0   0   0   0   0   0   0]\n [  0   0   0   0   0   0 245 253 154   0   0   0   0   0   9  60 236 253\n  253 248  84   0   0   0   0   0   0   0]\n [  0   0   0   0   0   0 254 253 171  45  45  84 155 155 228 253 255 253\n  253 121   0   0   0   0   0   0   0   0]\n [  0   0   0   0   0   0 221 253 253 253 253 253 253 253 253 253 254 199\n   85  32   0   0   0   0   0   0   0   0]\n [  0   0   0   0   0   0  82  95 143  95 167 253 205 234  61  33  33  10\n    0   0   0   0   0   0   0   0   0   0]\n [  0   0   0   0   0   0   0   0   0   0   0   0   0   0   0   0   0   0\n    0   0   0   0   0   0   0   0   0   0]\n [  0   0   0   0   0   0   0   0   0   0   0   0   0   0   0   0   0   0\n    0   0   0   0   0   0   0   0   0   0]\n [  0   0   0   0   0   0   0   0   0   0   0   0   0   0   0   0   0   0\n    0   0   0   0   0   0   0   0   0   0]\n [  0   0   0   0   0   0   0   0   0   0   0   0   0   0   0   0   0   0\n    0   0   0   0   0   0   0   0   0   0]]\n"
     ]
    }
   ],
   "source": [
    "print(X_train[0])"
   ]
  },
  {
   "cell_type": "code",
   "execution_count": 5,
   "metadata": {},
   "outputs": [],
   "source": [
    "X_train = X_train / 255\n",
    "X_test = X_test / 255"
   ]
  },
  {
   "cell_type": "code",
   "execution_count": 6,
   "metadata": {},
   "outputs": [],
   "source": [
    "y_train_hot = to_categorical(y_train)\n",
    "y_test_hot = to_categorical(y_test)"
   ]
  },
  {
   "cell_type": "code",
   "execution_count": null,
   "metadata": {},
   "outputs": [],
   "source": [
    "# Initialize the image classifier.\n",
    "model = ImageClassifier(overwrite=True, max_trials=2)\n",
    "\n",
    "# Feed the image classifier with training data.\n",
    "model.fit(X_train, y_train_hot, epochs=10, validation_split=0.2)"
   ]
  },
  {
   "cell_type": "code",
   "execution_count": null,
   "metadata": {},
   "outputs": [],
   "source": [
    "# Predict with the best model.\n",
    "y_pred = model.predict(X_test)\n",
    "print(y_pred)"
   ]
  },
  {
   "cell_type": "code",
   "execution_count": null,
   "metadata": {},
   "outputs": [],
   "source": [
    "# Evaluate the best model with testing data.\n",
    "print(model.evaluate(X_test, y_test_hot))"
   ]
  },
  {
   "cell_type": "code",
   "execution_count": null,
   "metadata": {},
   "outputs": [],
   "source": [
    "# Save the best model\n",
    "if not os.path.isdir('model'):\n",
    "    os.mkdir('model')\n",
    "\n",
    "model.save('model/mnist-28')"
   ]
  }
 ]
}