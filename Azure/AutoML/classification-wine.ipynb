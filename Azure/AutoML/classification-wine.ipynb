{
 "metadata": {
  "language_info": {
   "codemirror_mode": {
    "name": "ipython",
    "version": 3
   },
   "file_extension": ".py",
   "mimetype": "text/x-python",
   "name": "python",
   "nbconvert_exporter": "python",
   "pygments_lexer": "ipython3",
   "version": "3.8.6-final"
  },
  "orig_nbformat": 2,
  "kernelspec": {
   "name": "python3",
   "display_name": "Python 3",
   "language": "python"
  }
 },
 "nbformat": 4,
 "nbformat_minor": 2,
 "cells": [
  {
   "source": [
    "## Imports"
   ],
   "cell_type": "markdown",
   "metadata": {}
  },
  {
   "cell_type": "code",
   "execution_count": 1,
   "metadata": {},
   "outputs": [],
   "source": [
    "import os\n",
    "import pandas as pd\n",
    "import numpy as np\n",
    "import logging\n",
    "\n",
    "from azureml.train.automl import AutoMLConfig\n",
    "from azureml.core.experiment import Experiment\n",
    "from azureml.core.workspace import Workspace\n",
    "from azureml.core.dataset import Dataset\n",
    "from azureml.core.compute import ComputeTarget, AmlCompute\n",
    "from azureml.core.compute_target import ComputeTargetException\n",
    "\n",
    "from sklearn.model_selection import train_test_split"
   ]
  },
  {
   "source": [
    "## Get the workspace"
   ],
   "cell_type": "markdown",
   "metadata": {}
  },
  {
   "cell_type": "code",
   "execution_count": 2,
   "metadata": {},
   "outputs": [
    {
     "output_type": "stream",
     "name": "stdout",
     "text": [
      "Workspace configuration succeeded.\n"
     ]
    }
   ],
   "source": [
    "subscription_id = '95bcf3b7-9903-4d62-9b7b-00484a87a6cb'\n",
    "resource_group = 'ResearchProject'\n",
    "workspace_name = 'AutoML'\n",
    "\n",
    "try:\n",
    "    ws = Workspace(subscription_id = subscription_id, resource_group = resource_group, workspace_name = workspace_name)\n",
    "    # write the details of the workspace to a configuration file to the notebook library\n",
    "    ws.write_config()\n",
    "    print(\"Workspace configuration succeeded.\")\n",
    "except:\n",
    "    print(\"Workspace not accessible.\")"
   ]
  },
  {
   "source": [
    "## Get compute"
   ],
   "cell_type": "markdown",
   "metadata": {}
  },
  {
   "cell_type": "code",
   "execution_count": 3,
   "metadata": {},
   "outputs": [
    {
     "output_type": "stream",
     "name": "stdout",
     "text": [
      "Found existing cluster, use it.\n",
      "Succeeded\n",
      "AmlCompute wait for completion finished\n",
      "\n",
      "Minimum number of nodes requested have been provisioned\n"
     ]
    }
   ],
   "source": [
    "# Choose a name for your CPU cluster\n",
    "cpu_cluster_name = \"Automl-Compute\"\n",
    "\n",
    "# Verify that cluster does not exist already\n",
    "try:\n",
    "    compute_target = ComputeTarget(workspace=ws, name=cpu_cluster_name)\n",
    "    print('Found existing cluster, use it.')\n",
    "except ComputeTargetException:\n",
    "    compute_config = AmlCompute.provisioning_configuration(vm_size='STANDARD_F2S_V2', max_nodes=3)\n",
    "    compute_target = ComputeTarget.create(ws, cpu_cluster_name, compute_config)\n",
    "\n",
    "compute_target.wait_for_completion(show_output=True)"
   ]
  },
  {
   "source": [
    "## Load Data"
   ],
   "cell_type": "markdown",
   "metadata": {}
  },
  {
   "cell_type": "code",
   "execution_count": 4,
   "metadata": {},
   "outputs": [],
   "source": [
    "df = pd.read_csv('../Data/wine_data.csv')\n",
    "\n",
    "df = df.sample(frac=1).reset_index(drop=True)\n",
    "\n",
    "train_data = df[70:]\n",
    "test_data = df[:70]"
   ]
  },
  {
   "cell_type": "code",
   "execution_count": 5,
   "metadata": {},
   "outputs": [
    {
     "output_type": "execute_result",
     "data": {
      "text/plain": [
       "   inputs Alcohol  MalicAcid   Ash  AlcalinityOfAsh  Magnesium  TotalPhenols  \\\n",
       "0           12.20       3.03  2.32             19.0         96          1.25   \n",
       "1           11.96       1.09  2.30             21.0        101          3.38   \n",
       "2           13.45       3.70  2.60             23.0        111          1.70   \n",
       "3           12.43       1.53  2.29             21.5         86          2.74   \n",
       "4           12.72       1.75  2.28             22.5         84          1.38   \n",
       "5           12.85       1.60  2.52             17.8         95          2.48   \n",
       "6           12.34       2.45  2.46             21.0         98          2.56   \n",
       "7           13.52       3.17  2.72             23.5         97          1.55   \n",
       "8           13.08       3.90  2.36             21.5        113          1.41   \n",
       "9           12.77       3.43  1.98             16.0         80          1.63   \n",
       "\n",
       "   flavanoids  NonflavanoidsPhenols  Proanthocyanins  ColorIntensity   Hue  \\\n",
       "0        0.49                  0.40             0.73            5.50  0.66   \n",
       "1        2.14                  0.13             1.65            3.21  0.99   \n",
       "2        0.92                  0.43             1.46           10.68  0.85   \n",
       "3        3.15                  0.39             1.77            3.94  0.69   \n",
       "4        1.76                  0.48             1.63            3.30  0.88   \n",
       "5        2.37                  0.26             1.46            3.93  1.09   \n",
       "6        2.11                  0.34             1.31            2.80  0.80   \n",
       "7        0.52                  0.50             0.55            4.35  0.89   \n",
       "8        1.39                  0.34             1.14            9.40  0.57   \n",
       "9        1.25                  0.43             0.83            3.40  0.70   \n",
       "\n",
       "   OD280/OD315  Proline  Cultivar  \n",
       "0         1.83      510         2  \n",
       "1         3.13      886         1  \n",
       "2         1.56      695         2  \n",
       "3         2.84      352         1  \n",
       "4         2.42      488         1  \n",
       "5         3.63     1015         0  \n",
       "6         3.38      438         1  \n",
       "7         2.06      520         2  \n",
       "8         1.33      550         2  \n",
       "9         2.12      372         1  "
      ],
      "text/html": "<div>\n<style scoped>\n    .dataframe tbody tr th:only-of-type {\n        vertical-align: middle;\n    }\n\n    .dataframe tbody tr th {\n        vertical-align: top;\n    }\n\n    .dataframe thead th {\n        text-align: right;\n    }\n</style>\n<table border=\"1\" class=\"dataframe\">\n  <thead>\n    <tr style=\"text-align: right;\">\n      <th></th>\n      <th>inputs Alcohol</th>\n      <th>MalicAcid</th>\n      <th>Ash</th>\n      <th>AlcalinityOfAsh</th>\n      <th>Magnesium</th>\n      <th>TotalPhenols</th>\n      <th>flavanoids</th>\n      <th>NonflavanoidsPhenols</th>\n      <th>Proanthocyanins</th>\n      <th>ColorIntensity</th>\n      <th>Hue</th>\n      <th>OD280/OD315</th>\n      <th>Proline</th>\n      <th>Cultivar</th>\n    </tr>\n  </thead>\n  <tbody>\n    <tr>\n      <th>0</th>\n      <td>12.20</td>\n      <td>3.03</td>\n      <td>2.32</td>\n      <td>19.0</td>\n      <td>96</td>\n      <td>1.25</td>\n      <td>0.49</td>\n      <td>0.40</td>\n      <td>0.73</td>\n      <td>5.50</td>\n      <td>0.66</td>\n      <td>1.83</td>\n      <td>510</td>\n      <td>2</td>\n    </tr>\n    <tr>\n      <th>1</th>\n      <td>11.96</td>\n      <td>1.09</td>\n      <td>2.30</td>\n      <td>21.0</td>\n      <td>101</td>\n      <td>3.38</td>\n      <td>2.14</td>\n      <td>0.13</td>\n      <td>1.65</td>\n      <td>3.21</td>\n      <td>0.99</td>\n      <td>3.13</td>\n      <td>886</td>\n      <td>1</td>\n    </tr>\n    <tr>\n      <th>2</th>\n      <td>13.45</td>\n      <td>3.70</td>\n      <td>2.60</td>\n      <td>23.0</td>\n      <td>111</td>\n      <td>1.70</td>\n      <td>0.92</td>\n      <td>0.43</td>\n      <td>1.46</td>\n      <td>10.68</td>\n      <td>0.85</td>\n      <td>1.56</td>\n      <td>695</td>\n      <td>2</td>\n    </tr>\n    <tr>\n      <th>3</th>\n      <td>12.43</td>\n      <td>1.53</td>\n      <td>2.29</td>\n      <td>21.5</td>\n      <td>86</td>\n      <td>2.74</td>\n      <td>3.15</td>\n      <td>0.39</td>\n      <td>1.77</td>\n      <td>3.94</td>\n      <td>0.69</td>\n      <td>2.84</td>\n      <td>352</td>\n      <td>1</td>\n    </tr>\n    <tr>\n      <th>4</th>\n      <td>12.72</td>\n      <td>1.75</td>\n      <td>2.28</td>\n      <td>22.5</td>\n      <td>84</td>\n      <td>1.38</td>\n      <td>1.76</td>\n      <td>0.48</td>\n      <td>1.63</td>\n      <td>3.30</td>\n      <td>0.88</td>\n      <td>2.42</td>\n      <td>488</td>\n      <td>1</td>\n    </tr>\n    <tr>\n      <th>5</th>\n      <td>12.85</td>\n      <td>1.60</td>\n      <td>2.52</td>\n      <td>17.8</td>\n      <td>95</td>\n      <td>2.48</td>\n      <td>2.37</td>\n      <td>0.26</td>\n      <td>1.46</td>\n      <td>3.93</td>\n      <td>1.09</td>\n      <td>3.63</td>\n      <td>1015</td>\n      <td>0</td>\n    </tr>\n    <tr>\n      <th>6</th>\n      <td>12.34</td>\n      <td>2.45</td>\n      <td>2.46</td>\n      <td>21.0</td>\n      <td>98</td>\n      <td>2.56</td>\n      <td>2.11</td>\n      <td>0.34</td>\n      <td>1.31</td>\n      <td>2.80</td>\n      <td>0.80</td>\n      <td>3.38</td>\n      <td>438</td>\n      <td>1</td>\n    </tr>\n    <tr>\n      <th>7</th>\n      <td>13.52</td>\n      <td>3.17</td>\n      <td>2.72</td>\n      <td>23.5</td>\n      <td>97</td>\n      <td>1.55</td>\n      <td>0.52</td>\n      <td>0.50</td>\n      <td>0.55</td>\n      <td>4.35</td>\n      <td>0.89</td>\n      <td>2.06</td>\n      <td>520</td>\n      <td>2</td>\n    </tr>\n    <tr>\n      <th>8</th>\n      <td>13.08</td>\n      <td>3.90</td>\n      <td>2.36</td>\n      <td>21.5</td>\n      <td>113</td>\n      <td>1.41</td>\n      <td>1.39</td>\n      <td>0.34</td>\n      <td>1.14</td>\n      <td>9.40</td>\n      <td>0.57</td>\n      <td>1.33</td>\n      <td>550</td>\n      <td>2</td>\n    </tr>\n    <tr>\n      <th>9</th>\n      <td>12.77</td>\n      <td>3.43</td>\n      <td>1.98</td>\n      <td>16.0</td>\n      <td>80</td>\n      <td>1.63</td>\n      <td>1.25</td>\n      <td>0.43</td>\n      <td>0.83</td>\n      <td>3.40</td>\n      <td>0.70</td>\n      <td>2.12</td>\n      <td>372</td>\n      <td>1</td>\n    </tr>\n  </tbody>\n</table>\n</div>"
     },
     "metadata": {},
     "execution_count": 5
    }
   ],
   "source": [
    "df.head(10)"
   ]
  },
  {
   "cell_type": "code",
   "execution_count": 6,
   "metadata": {},
   "outputs": [
    {
     "output_type": "stream",
     "name": "stdout",
     "text": [
      "Uploading an estimated of 2 files\n",
      "Uploading ./data\\test_data.csv\n",
      "Uploaded ./data\\test_data.csv, 1 files out of an estimated total of 2\n",
      "Uploading ./data\\train_data.csv\n",
      "Uploaded ./data\\train_data.csv, 2 files out of an estimated total of 2\n",
      "Uploaded 2 files\n"
     ]
    }
   ],
   "source": [
    "# Data source and format (Pandas (local) or TabularDataset (remote compute))\n",
    "if not os.path.isdir('data'):\n",
    "    os.mkdir('data')\n",
    "    \n",
    "# Save the train data to a csv to be uploaded to the datastore\n",
    "pd.DataFrame(train_data).to_csv(\"data/train_data.csv\", index=False)\n",
    "pd.DataFrame(test_data).to_csv(\"data/test_data.csv\", index=False)\n",
    "\n",
    "ds = ws.get_default_datastore()\n",
    "ds.upload(src_dir='./data', target_path='wine', overwrite=True, show_progress=True)\n",
    "\n",
    "# Upload the training data as a tabular dataset for access during training on remote compute\n",
    "train_dataset = Dataset.Tabular.from_delimited_files(path=ds.path('wine/train_data.csv'))\n",
    "test_dataset = Dataset.Tabular.from_delimited_files(path=ds.path('wine/test_data.csv'))\n",
    "\n",
    "label = \"Cultivar\""
   ]
  },
  {
   "source": [
    "## Configure Experiment"
   ],
   "cell_type": "markdown",
   "metadata": {}
  },
  {
   "cell_type": "code",
   "execution_count": 7,
   "metadata": {},
   "outputs": [],
   "source": [
    "# Configure experiment settings\n",
    "# Data featurization (automatically scaled and normalized)\n",
    "# Exit criteria\n",
    "\n",
    "automl_settings = {\n",
    "    \"experiment_timeout_hours\" : 0.3,\n",
    "    \"enable_early_stopping\" : True,\n",
    "    \"iteration_timeout_minutes\": 5,\n",
    "    \"max_concurrent_iterations\": 4,\n",
    "    \"max_cores_per_iteration\": -1,\n",
    "    \"n_cross_validations\": 2,\n",
    "    \"primary_metric\": 'accuracy',\n",
    "    \"featurization\": 'auto',\n",
    "    \"verbosity\": logging.INFO,\n",
    "}\n",
    "\n",
    "automl_config = AutoMLConfig(task = 'classification',\n",
    "                             debug_log = 'automl_errors.log',\n",
    "                             compute_target=compute_target,\n",
    "                             experiment_exit_score = 1,\n",
    "                             enable_onnx_compatible_models=True,\n",
    "                             training_data = train_dataset,\n",
    "                             label_column_name = label,\n",
    "                             **automl_settings\n",
    "                            )\n",
    "\n",
    "# Choose a name for experiment\n",
    "experiment_name = 'Wine_AutoML'\n",
    "experiment = Experiment(ws, experiment_name)"
   ]
  },
  {
   "cell_type": "code",
   "execution_count": 8,
   "metadata": {},
   "outputs": [
    {
     "output_type": "stream",
     "name": "stdout",
     "text": [
      "Running on remote.\n",
      "Run(Experiment: Wine_AutoML,\n",
      "Id: AutoML_2881bc33-8622-427d-8c5a-660de4069668,\n",
      "Type: automl,\n",
      "Status: NotStarted)\n",
      "WARNING:root:The model you attempted to retrieve requires 'azureml-train-automl-runtime' to be installed at '==1.19.0'. Please install 'azureml-train-automl-runtime==1.19.0' (e.g. `pip install azureml-train-automl-runtime==1.19.0`) and then rerun the previous command.\n"
     ]
    }
   ],
   "source": [
    "remote_run = experiment.submit(automl_config, show_output = False)\n",
    "\n",
    "print(remote_run)\n",
    "\n",
    "remote_run.wait_for_completion()\n",
    "\n",
    "best_run_customized, fitted_model_customized = remote_run.get_output()"
   ]
  },
  {
   "source": [
    "## Transparency"
   ],
   "cell_type": "markdown",
   "metadata": {}
  },
  {
   "cell_type": "code",
   "execution_count": 9,
   "metadata": {},
   "outputs": [
    {
     "output_type": "error",
     "ename": "AttributeError",
     "evalue": "'NoneType' object has no attribute 'named_steps'",
     "traceback": [
      "\u001b[1;31m---------------------------------------------------------------------------\u001b[0m",
      "\u001b[1;31mAttributeError\u001b[0m                            Traceback (most recent call last)",
      "\u001b[1;32m<ipython-input-9-2d3b5afb24c5>\u001b[0m in \u001b[0;36m<module>\u001b[1;34m\u001b[0m\n\u001b[1;32m----> 1\u001b[1;33m \u001b[0mcustom_featurizer\u001b[0m \u001b[1;33m=\u001b[0m \u001b[0mfitted_model_customized\u001b[0m\u001b[1;33m.\u001b[0m\u001b[0mnamed_steps\u001b[0m\u001b[1;33m[\u001b[0m\u001b[1;34m'datatransformer'\u001b[0m\u001b[1;33m]\u001b[0m\u001b[1;33m\u001b[0m\u001b[1;33m\u001b[0m\u001b[0m\n\u001b[0m\u001b[0;32m      2\u001b[0m \u001b[0mdf\u001b[0m \u001b[1;33m=\u001b[0m \u001b[0mcustom_featurizer\u001b[0m\u001b[1;33m.\u001b[0m\u001b[0mget_featurization_summary\u001b[0m\u001b[1;33m(\u001b[0m\u001b[1;33m)\u001b[0m\u001b[1;33m\u001b[0m\u001b[1;33m\u001b[0m\u001b[0m\n\u001b[0;32m      3\u001b[0m \u001b[0mpd\u001b[0m\u001b[1;33m.\u001b[0m\u001b[0mDataFrame\u001b[0m\u001b[1;33m(\u001b[0m\u001b[0mdata\u001b[0m\u001b[1;33m=\u001b[0m\u001b[0mdf\u001b[0m\u001b[1;33m)\u001b[0m\u001b[1;33m\u001b[0m\u001b[1;33m\u001b[0m\u001b[0m\n",
      "\u001b[1;31mAttributeError\u001b[0m: 'NoneType' object has no attribute 'named_steps'"
     ]
    }
   ],
   "source": [
    "custom_featurizer = fitted_model_customized.named_steps['datatransformer']\n",
    "df = custom_featurizer.get_featurization_summary()\n",
    "pd.DataFrame(data=df)"
   ]
  },
  {
   "cell_type": "code",
   "execution_count": null,
   "metadata": {},
   "outputs": [],
   "source": [
    "df = custom_featurizer.get_featurization_summary(is_user_friendly=False)\n",
    "pd.DataFrame(data=df)"
   ]
  },
  {
   "cell_type": "code",
   "execution_count": null,
   "metadata": {},
   "outputs": [],
   "source": [
    "df = custom_featurizer.get_stats_feature_type_summary()\n",
    "pd.DataFrame(data=df)"
   ]
  },
  {
   "source": [
    "## Results"
   ],
   "cell_type": "markdown",
   "metadata": {}
  }
 ]
}