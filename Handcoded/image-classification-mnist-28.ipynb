{
 "metadata": {
  "language_info": {
   "codemirror_mode": {
    "name": "ipython",
    "version": 3
   },
   "file_extension": ".py",
   "mimetype": "text/x-python",
   "name": "python",
   "nbconvert_exporter": "python",
   "pygments_lexer": "ipython3",
   "version": "3.8.6-final"
  },
  "orig_nbformat": 2,
  "kernelspec": {
   "name": "python3",
   "display_name": "Python 3",
   "language": "python"
  }
 },
 "nbformat": 4,
 "nbformat_minor": 2,
 "cells": [
  {
   "source": [
    "## Imports"
   ],
   "cell_type": "markdown",
   "metadata": {}
  },
  {
   "cell_type": "code",
   "execution_count": 1,
   "metadata": {},
   "outputs": [],
   "source": [
    "import numpy as np\n",
    "import tensorflow as tf\n",
    "import seaborn as sns\n",
    "\n",
    "from tensorflow.keras.datasets import mnist\n",
    "from tensorflow.keras.utils import to_categorical\n",
    "from tensorflow.keras import Sequential\n",
    "from tensorflow.keras.optimizers import Adam\n",
    "from tensorflow.keras.callbacks import EarlyStopping\n",
    "from tensorflow.keras.layers import Dense, Conv2D, Dropout, MaxPooling2D, Input, Flatten"
   ]
  },
  {
   "source": [
    "## Preprocessing"
   ],
   "cell_type": "markdown",
   "metadata": {}
  },
  {
   "cell_type": "code",
   "execution_count": 2,
   "metadata": {},
   "outputs": [
    {
     "output_type": "stream",
     "name": "stdout",
     "text": [
      "X train: (60000, 28, 28)\nY train: (60000,)\nX test: (10000, 28, 28)\nY test: (10000,)\n"
     ]
    }
   ],
   "source": [
    "# Load data\n",
    "\n",
    "(X_train, y_train), (X_test, y_test) = mnist.load_data()\n",
    "\n",
    "print(f'X train: {X_train.shape}')\n",
    "print(f'Y train: {y_train.shape}')\n",
    "print(f'X test: {X_test.shape}')\n",
    "print(f'Y test: {y_test.shape}')\n",
    "\n"
   ]
  },
  {
   "cell_type": "code",
   "execution_count": 3,
   "metadata": {},
   "outputs": [],
   "source": [
    "X_train = X_train[20000:]\n",
    "y_train = y_train[20000:]\n",
    "\n",
    "X_test = X_test[5000:]\n",
    "y_test = y_test[5000:]"
   ]
  },
  {
   "cell_type": "code",
   "execution_count": 4,
   "metadata": {},
   "outputs": [],
   "source": [
    "X_train = X_train / 255\n",
    "X_test = X_test / 255"
   ]
  },
  {
   "cell_type": "code",
   "execution_count": 5,
   "metadata": {},
   "outputs": [],
   "source": [
    "y_train_hot = to_categorical(y_train)\n",
    "y_test_hot = to_categorical(y_test)"
   ]
  },
  {
   "cell_type": "code",
   "execution_count": 6,
   "metadata": {},
   "outputs": [],
   "source": [
    "# Reshape dataset to have a single channel\n",
    "X_train = X_train.reshape((X_train.shape[0], 28, 28, 1))\n",
    "X_test = X_test.reshape((X_test.shape[0], 28, 28, 1))"
   ]
  },
  {
   "source": [
    "## Main"
   ],
   "cell_type": "markdown",
   "metadata": {}
  },
  {
   "cell_type": "code",
   "execution_count": 7,
   "metadata": {},
   "outputs": [],
   "source": [
    "model = Sequential([\n",
    "\n",
    "    Conv2D(32, kernel_size=(3, 3), activation='relu', input_shape=(28, 28, 1)),\n",
    "    MaxPooling2D(pool_size=(2, 2)),\n",
    "    Dropout(0.2),\n",
    "\n",
    "    Conv2D(32, kernel_size=(3, 3), activation='relu'),\n",
    "    MaxPooling2D(pool_size=(2, 2)),\n",
    "    Dropout(0.2),\n",
    "\n",
    "    Flatten(),\n",
    "\n",
    "    Dense(64, activation='relu'),\n",
    "    Dropout(0.2),\n",
    "\n",
    "    Dense(10, activation='softmax')\n",
    "])\n",
    "\n",
    "model.compile(loss='categorical_crossentropy', optimizer=Adam(lr=0.0001), metrics=['accuracy'])"
   ]
  },
  {
   "cell_type": "code",
   "execution_count": 8,
   "metadata": {},
   "outputs": [
    {
     "output_type": "stream",
     "name": "stdout",
     "text": [
      "Epoch 1/1000\n",
      "500/500 [==============================] - 13s 24ms/step - loss: 1.7425 - accuracy: 0.4359 - val_loss: 0.4093 - val_accuracy: 0.9022\n",
      "Epoch 2/1000\n",
      "500/500 [==============================] - 11s 23ms/step - loss: 0.5538 - accuracy: 0.8307 - val_loss: 0.2314 - val_accuracy: 0.9400\n",
      "Epoch 3/1000\n",
      "500/500 [==============================] - 11s 23ms/step - loss: 0.3739 - accuracy: 0.8875 - val_loss: 0.1803 - val_accuracy: 0.9499\n",
      "Epoch 4/1000\n",
      "500/500 [==============================] - 11s 22ms/step - loss: 0.2929 - accuracy: 0.9120 - val_loss: 0.1514 - val_accuracy: 0.9578\n",
      "Epoch 5/1000\n",
      "500/500 [==============================] - 11s 23ms/step - loss: 0.2457 - accuracy: 0.9288 - val_loss: 0.1295 - val_accuracy: 0.9630\n",
      "Epoch 6/1000\n",
      "500/500 [==============================] - 11s 23ms/step - loss: 0.2149 - accuracy: 0.9332 - val_loss: 0.1157 - val_accuracy: 0.9672\n",
      "Epoch 7/1000\n",
      "500/500 [==============================] - 11s 22ms/step - loss: 0.1963 - accuracy: 0.9399 - val_loss: 0.1047 - val_accuracy: 0.9699\n",
      "Epoch 8/1000\n",
      "500/500 [==============================] - 11s 22ms/step - loss: 0.1774 - accuracy: 0.9463 - val_loss: 0.0943 - val_accuracy: 0.9730\n",
      "Epoch 9/1000\n",
      "500/500 [==============================] - 11s 23ms/step - loss: 0.1626 - accuracy: 0.9510 - val_loss: 0.0896 - val_accuracy: 0.9750\n",
      "Epoch 10/1000\n",
      "500/500 [==============================] - 13s 25ms/step - loss: 0.1460 - accuracy: 0.9555 - val_loss: 0.0851 - val_accuracy: 0.9755\n",
      "Epoch 11/1000\n",
      "500/500 [==============================] - 15s 30ms/step - loss: 0.1330 - accuracy: 0.9574 - val_loss: 0.0805 - val_accuracy: 0.9770\n",
      "Epoch 12/1000\n",
      "500/500 [==============================] - 13s 26ms/step - loss: 0.1355 - accuracy: 0.9569 - val_loss: 0.0743 - val_accuracy: 0.9787\n",
      "Epoch 13/1000\n",
      "500/500 [==============================] - 13s 27ms/step - loss: 0.1180 - accuracy: 0.9626 - val_loss: 0.0695 - val_accuracy: 0.9801\n",
      "Epoch 14/1000\n",
      "500/500 [==============================] - 13s 26ms/step - loss: 0.1081 - accuracy: 0.9677 - val_loss: 0.0668 - val_accuracy: 0.9818\n",
      "Epoch 15/1000\n",
      "500/500 [==============================] - 12s 24ms/step - loss: 0.1062 - accuracy: 0.9691 - val_loss: 0.0646 - val_accuracy: 0.9822\n",
      "Epoch 16/1000\n",
      "500/500 [==============================] - 12s 23ms/step - loss: 0.1074 - accuracy: 0.9661 - val_loss: 0.0618 - val_accuracy: 0.9829\n",
      "Epoch 17/1000\n",
      "500/500 [==============================] - 12s 23ms/step - loss: 0.0996 - accuracy: 0.9694 - val_loss: 0.0593 - val_accuracy: 0.9839\n",
      "Epoch 18/1000\n",
      "500/500 [==============================] - 12s 23ms/step - loss: 0.0889 - accuracy: 0.9720 - val_loss: 0.0574 - val_accuracy: 0.9843\n",
      "Epoch 19/1000\n",
      "500/500 [==============================] - 12s 24ms/step - loss: 0.0924 - accuracy: 0.9709 - val_loss: 0.0561 - val_accuracy: 0.9850\n",
      "Epoch 20/1000\n",
      "500/500 [==============================] - 12s 24ms/step - loss: 0.0907 - accuracy: 0.9713 - val_loss: 0.0544 - val_accuracy: 0.9847\n",
      "Epoch 21/1000\n",
      "500/500 [==============================] - 12s 23ms/step - loss: 0.0879 - accuracy: 0.9737 - val_loss: 0.0528 - val_accuracy: 0.9856\n",
      "Epoch 22/1000\n",
      "500/500 [==============================] - 12s 23ms/step - loss: 0.0836 - accuracy: 0.9721 - val_loss: 0.0524 - val_accuracy: 0.9858\n",
      "Epoch 23/1000\n",
      "500/500 [==============================] - 12s 23ms/step - loss: 0.0766 - accuracy: 0.9759 - val_loss: 0.0504 - val_accuracy: 0.9870\n",
      "Epoch 24/1000\n",
      "500/500 [==============================] - 12s 24ms/step - loss: 0.0798 - accuracy: 0.9755 - val_loss: 0.0501 - val_accuracy: 0.9861\n",
      "Epoch 25/1000\n",
      "500/500 [==============================] - 12s 23ms/step - loss: 0.0745 - accuracy: 0.9756 - val_loss: 0.0492 - val_accuracy: 0.9876\n",
      "Epoch 26/1000\n",
      "500/500 [==============================] - 12s 24ms/step - loss: 0.0704 - accuracy: 0.9770 - val_loss: 0.0487 - val_accuracy: 0.9869\n",
      "Epoch 27/1000\n",
      "500/500 [==============================] - 12s 23ms/step - loss: 0.0711 - accuracy: 0.9781 - val_loss: 0.0477 - val_accuracy: 0.9870\n",
      "Epoch 28/1000\n",
      "500/500 [==============================] - 12s 24ms/step - loss: 0.0674 - accuracy: 0.9791 - val_loss: 0.0467 - val_accuracy: 0.9879\n",
      "Epoch 29/1000\n",
      "500/500 [==============================] - 12s 24ms/step - loss: 0.0668 - accuracy: 0.9786 - val_loss: 0.0458 - val_accuracy: 0.9875\n",
      "Epoch 30/1000\n",
      "500/500 [==============================] - 12s 24ms/step - loss: 0.0620 - accuracy: 0.9799 - val_loss: 0.0460 - val_accuracy: 0.9877\n",
      "Epoch 31/1000\n",
      "500/500 [==============================] - 12s 24ms/step - loss: 0.0647 - accuracy: 0.9797 - val_loss: 0.0453 - val_accuracy: 0.9879\n",
      "Epoch 32/1000\n",
      "500/500 [==============================] - 12s 23ms/step - loss: 0.0644 - accuracy: 0.9796 - val_loss: 0.0451 - val_accuracy: 0.9890\n",
      "Epoch 33/1000\n",
      "500/500 [==============================] - 12s 24ms/step - loss: 0.0583 - accuracy: 0.9804 - val_loss: 0.0449 - val_accuracy: 0.9872\n",
      "Epoch 34/1000\n",
      "500/500 [==============================] - 12s 24ms/step - loss: 0.0601 - accuracy: 0.9808 - val_loss: 0.0451 - val_accuracy: 0.9875\n",
      "Epoch 35/1000\n",
      "500/500 [==============================] - 12s 23ms/step - loss: 0.0520 - accuracy: 0.9832 - val_loss: 0.0438 - val_accuracy: 0.9879\n",
      "Epoch 36/1000\n",
      "500/500 [==============================] - 12s 24ms/step - loss: 0.0508 - accuracy: 0.9840 - val_loss: 0.0430 - val_accuracy: 0.9890\n",
      "Epoch 37/1000\n",
      "500/500 [==============================] - 12s 24ms/step - loss: 0.0543 - accuracy: 0.9826 - val_loss: 0.0432 - val_accuracy: 0.9886\n",
      "Epoch 38/1000\n",
      "500/500 [==============================] - 12s 24ms/step - loss: 0.0535 - accuracy: 0.9834 - val_loss: 0.0433 - val_accuracy: 0.9885\n",
      "Epoch 39/1000\n",
      "500/500 [==============================] - 12s 23ms/step - loss: 0.0508 - accuracy: 0.9838 - val_loss: 0.0428 - val_accuracy: 0.9884\n",
      "Epoch 40/1000\n",
      "500/500 [==============================] - 12s 24ms/step - loss: 0.0509 - accuracy: 0.9842 - val_loss: 0.0430 - val_accuracy: 0.9876\n",
      "Epoch 41/1000\n",
      "500/500 [==============================] - 12s 24ms/step - loss: 0.0511 - accuracy: 0.9837 - val_loss: 0.0410 - val_accuracy: 0.9893\n",
      "Epoch 42/1000\n",
      "500/500 [==============================] - 12s 24ms/step - loss: 0.0458 - accuracy: 0.9852 - val_loss: 0.0417 - val_accuracy: 0.9889\n",
      "Epoch 43/1000\n",
      "500/500 [==============================] - 12s 23ms/step - loss: 0.0460 - accuracy: 0.9855 - val_loss: 0.0416 - val_accuracy: 0.9891\n",
      "Epoch 44/1000\n",
      "500/500 [==============================] - 12s 23ms/step - loss: 0.0475 - accuracy: 0.9843 - val_loss: 0.0412 - val_accuracy: 0.9898\n"
     ]
    },
    {
     "output_type": "execute_result",
     "data": {
      "text/plain": [
       "<tensorflow.python.keras.callbacks.History at 0x20bca186ac0>"
      ]
     },
     "metadata": {},
     "execution_count": 8
    }
   ],
   "source": [
    "epochs = 1000\n",
    "batch_size = 64\n",
    "\n",
    "early_stopping = EarlyStopping(monitor='val_loss', patience=3)\n",
    "\n",
    "\n",
    "model.fit(X_train, y_train_hot, batch_size=batch_size, epochs=epochs, verbose=1, validation_split=0.2, callbacks=[early_stopping])"
   ]
  },
  {
   "cell_type": "code",
   "execution_count": 10,
   "metadata": {},
   "outputs": [
    {
     "output_type": "stream",
     "name": "stdout",
     "text": [
      "157/157 [==============================] - 1s 4ms/step - loss: 0.0168 - accuracy: 0.9954\n",
      "Test loss: 0.01683628000319004\n",
      "Test accuracy: 0.9954000115394592\n"
     ]
    }
   ],
   "source": [
    "score = model.evaluate(X_test, y_test_hot, verbose=1)\n",
    "\n",
    "print('Test loss:', score[0])\n",
    "print('Test accuracy:', score[1])"
   ]
  },
  {
   "cell_type": "code",
   "execution_count": 11,
   "metadata": {},
   "outputs": [
    {
     "output_type": "stream",
     "name": "stdout",
     "text": [
      "INFO:tensorflow:Assets written to: model/mnist-cnn\\assets\n"
     ]
    }
   ],
   "source": [
    "model.save('model/mnist-cnn')"
   ]
  },
  {
   "cell_type": "code",
   "execution_count": null,
   "metadata": {},
   "outputs": [],
   "source": []
  }
 ]
}