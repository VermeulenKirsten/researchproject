{
 "metadata": {
  "language_info": {
   "codemirror_mode": {
    "name": "ipython",
    "version": 3
   },
   "file_extension": ".py",
   "mimetype": "text/x-python",
   "name": "python",
   "nbconvert_exporter": "python",
   "pygments_lexer": "ipython3",
   "version": "3.8.6-final"
  },
  "orig_nbformat": 2,
  "kernelspec": {
   "name": "python3",
   "display_name": "Python 3",
   "language": "python"
  }
 },
 "nbformat": 4,
 "nbformat_minor": 2,
 "cells": [
  {
   "source": [
    "## Imports"
   ],
   "cell_type": "markdown",
   "metadata": {}
  },
  {
   "cell_type": "code",
   "execution_count": 1,
   "metadata": {},
   "outputs": [],
   "source": [
    "import os\n",
    "\n",
    "import numpy as np\n",
    "import pandas as pd\n",
    "\n",
    "from sklearn.model_selection import train_test_split\n",
    "from sklearn.datasets import load_boston\n",
    "\n",
    "from autokeras import StructuredDataRegressor"
   ]
  },
  {
   "cell_type": "code",
   "execution_count": 2,
   "metadata": {},
   "outputs": [
    {
     "output_type": "stream",
     "name": "stdout",
     "text": [
      "(506, 14)\n"
     ]
    }
   ],
   "source": [
    "# Load dataset\n",
    "\n",
    "boston = load_boston()\n",
    "\n",
    "df = pd.DataFrame(boston.data)\n",
    "\n",
    "df.columns = boston.feature_names\n",
    "df['PRICE'] = boston.target \n",
    "\n",
    "print(df.shape)"
   ]
  },
  {
   "cell_type": "code",
   "execution_count": 3,
   "metadata": {},
   "outputs": [],
   "source": [
    "X = df.drop('PRICE', axis=1).values\n",
    "y = df.PRICE.values"
   ]
  },
  {
   "cell_type": "code",
   "execution_count": 4,
   "metadata": {},
   "outputs": [
    {
     "output_type": "stream",
     "name": "stdout",
     "text": [
      "(339, 13) (167, 13) (339,) (167,)\n"
     ]
    }
   ],
   "source": [
    "# separate into train and test sets\n",
    "X_train, X_test, y_train, y_test = train_test_split(X, y, test_size=0.33, random_state=1)\n",
    "print(X_train.shape, X_test.shape, y_train.shape, y_test.shape)"
   ]
  },
  {
   "cell_type": "code",
   "execution_count": 5,
   "metadata": {},
   "outputs": [
    {
     "output_type": "stream",
     "name": "stdout",
     "text": [
      "Trial 30 Complete [00h 00m 05s]\n",
      "val_loss: 471.8982849121094\n",
      "\n",
      "Best val_loss So Far: 7.226643085479736\n",
      "Total elapsed time: 00h 21m 11s\n",
      "INFO:tensorflow:Oracle triggered exit\n",
      "Epoch 1/63\n",
      "11/11 [==============================] - 1s 5ms/step - loss: 571.4692 - mean_squared_error: 571.4692\n",
      "Epoch 2/63\n",
      "11/11 [==============================] - 0s 5ms/step - loss: 460.6294 - mean_squared_error: 460.6294\n",
      "Epoch 3/63\n",
      "11/11 [==============================] - 0s 4ms/step - loss: 388.6752 - mean_squared_error: 388.6752\n",
      "Epoch 4/63\n",
      "11/11 [==============================] - 0s 4ms/step - loss: 331.3669 - mean_squared_error: 331.3669\n",
      "Epoch 5/63\n",
      "11/11 [==============================] - 0s 4ms/step - loss: 282.8588 - mean_squared_error: 282.8588\n",
      "Epoch 6/63\n",
      "11/11 [==============================] - 0s 4ms/step - loss: 240.0187 - mean_squared_error: 240.0187\n",
      "Epoch 7/63\n",
      "11/11 [==============================] - 0s 4ms/step - loss: 202.0583 - mean_squared_error: 202.0583\n",
      "Epoch 8/63\n",
      "11/11 [==============================] - 0s 4ms/step - loss: 167.8613 - mean_squared_error: 167.8613\n",
      "Epoch 9/63\n",
      "11/11 [==============================] - 0s 4ms/step - loss: 137.5979 - mean_squared_error: 137.5979\n",
      "Epoch 10/63\n",
      "11/11 [==============================] - 0s 4ms/step - loss: 110.8119 - mean_squared_error: 110.8119\n",
      "Epoch 11/63\n",
      "11/11 [==============================] - 0s 4ms/step - loss: 87.5370 - mean_squared_error: 87.5370\n",
      "Epoch 12/63\n",
      "11/11 [==============================] - 0s 4ms/step - loss: 67.7926 - mean_squared_error: 67.7926\n",
      "Epoch 13/63\n",
      "11/11 [==============================] - 0s 4ms/step - loss: 51.4607 - mean_squared_error: 51.4607\n",
      "Epoch 14/63\n",
      "11/11 [==============================] - 0s 4ms/step - loss: 38.3867 - mean_squared_error: 38.3867\n",
      "Epoch 15/63\n",
      "11/11 [==============================] - 0s 4ms/step - loss: 28.5572 - mean_squared_error: 28.5572\n",
      "Epoch 16/63\n",
      "11/11 [==============================] - 0s 4ms/step - loss: 21.9627 - mean_squared_error: 21.9627\n",
      "Epoch 17/63\n",
      "11/11 [==============================] - 0s 4ms/step - loss: 20.9032 - mean_squared_error: 20.9032\n",
      "Epoch 18/63\n",
      "11/11 [==============================] - 0s 4ms/step - loss: 22.0428 - mean_squared_error: 22.0428\n",
      "Epoch 19/63\n",
      "11/11 [==============================] - 0s 4ms/step - loss: 23.9370 - mean_squared_error: 23.9370\n",
      "Epoch 20/63\n",
      "11/11 [==============================] - 0s 4ms/step - loss: 16.9798 - mean_squared_error: 16.9798\n",
      "Epoch 21/63\n",
      "11/11 [==============================] - 0s 4ms/step - loss: 11.8953 - mean_squared_error: 11.8953\n",
      "Epoch 22/63\n",
      "11/11 [==============================] - 0s 4ms/step - loss: 6.5753 - mean_squared_error: 6.5753\n",
      "Epoch 23/63\n",
      "11/11 [==============================] - 0s 4ms/step - loss: 4.3809 - mean_squared_error: 4.3809\n",
      "Epoch 24/63\n",
      "11/11 [==============================] - 0s 4ms/step - loss: 3.3490 - mean_squared_error: 3.3490\n",
      "Epoch 25/63\n",
      "11/11 [==============================] - 0s 4ms/step - loss: 2.6665 - mean_squared_error: 2.6665\n",
      "Epoch 26/63\n",
      "11/11 [==============================] - 0s 4ms/step - loss: 2.0955 - mean_squared_error: 2.0955\n",
      "Epoch 27/63\n",
      "11/11 [==============================] - 0s 4ms/step - loss: 1.9081 - mean_squared_error: 1.9081\n",
      "Epoch 28/63\n",
      "11/11 [==============================] - 0s 4ms/step - loss: 1.6599 - mean_squared_error: 1.6599\n",
      "Epoch 29/63\n",
      "11/11 [==============================] - 0s 4ms/step - loss: 1.7872 - mean_squared_error: 1.7872\n",
      "Epoch 30/63\n",
      "11/11 [==============================] - 0s 4ms/step - loss: 1.8136 - mean_squared_error: 1.8136\n",
      "Epoch 31/63\n",
      "11/11 [==============================] - 0s 4ms/step - loss: 1.7207 - mean_squared_error: 1.7207\n",
      "Epoch 32/63\n",
      "11/11 [==============================] - 0s 4ms/step - loss: 3.2633 - mean_squared_error: 3.2633\n",
      "Epoch 33/63\n",
      "11/11 [==============================] - 0s 4ms/step - loss: 3.9896 - mean_squared_error: 3.9896\n",
      "Epoch 34/63\n",
      "11/11 [==============================] - 0s 4ms/step - loss: 5.2043 - mean_squared_error: 5.2043\n",
      "Epoch 35/63\n",
      "11/11 [==============================] - 0s 4ms/step - loss: 6.4616 - mean_squared_error: 6.4616\n",
      "Epoch 36/63\n",
      "11/11 [==============================] - 0s 4ms/step - loss: 4.4437 - mean_squared_error: 4.4437\n",
      "Epoch 37/63\n",
      "11/11 [==============================] - 0s 4ms/step - loss: 2.2575 - mean_squared_error: 2.2575\n",
      "Epoch 38/63\n",
      "11/11 [==============================] - 0s 4ms/step - loss: 2.0071 - mean_squared_error: 2.0071\n",
      "Epoch 39/63\n",
      "11/11 [==============================] - 0s 4ms/step - loss: 1.3194 - mean_squared_error: 1.3194\n",
      "Epoch 40/63\n",
      "11/11 [==============================] - 0s 4ms/step - loss: 1.1650 - mean_squared_error: 1.1650\n",
      "Epoch 41/63\n",
      "11/11 [==============================] - 0s 4ms/step - loss: 0.9122 - mean_squared_error: 0.9122\n",
      "Epoch 42/63\n",
      "11/11 [==============================] - 0s 4ms/step - loss: 0.8694 - mean_squared_error: 0.8694\n",
      "Epoch 43/63\n",
      "11/11 [==============================] - 0s 4ms/step - loss: 0.8419 - mean_squared_error: 0.8419\n",
      "Epoch 44/63\n",
      "11/11 [==============================] - 0s 4ms/step - loss: 0.7490 - mean_squared_error: 0.7490\n",
      "Epoch 45/63\n",
      "11/11 [==============================] - 0s 4ms/step - loss: 0.8886 - mean_squared_error: 0.8886\n",
      "Epoch 46/63\n",
      "11/11 [==============================] - 0s 4ms/step - loss: 0.8017 - mean_squared_error: 0.8017\n",
      "Epoch 47/63\n",
      "11/11 [==============================] - 0s 4ms/step - loss: 1.1033 - mean_squared_error: 1.1033\n",
      "Epoch 48/63\n",
      "11/11 [==============================] - 0s 4ms/step - loss: 0.8568 - mean_squared_error: 0.8568\n",
      "Epoch 49/63\n",
      "11/11 [==============================] - 0s 4ms/step - loss: 1.3896 - mean_squared_error: 1.3896\n",
      "Epoch 50/63\n",
      "11/11 [==============================] - 0s 4ms/step - loss: 1.0689 - mean_squared_error: 1.0689\n",
      "Epoch 51/63\n",
      "11/11 [==============================] - 0s 5ms/step - loss: 1.5023 - mean_squared_error: 1.5023\n",
      "Epoch 52/63\n",
      "11/11 [==============================] - 0s 4ms/step - loss: 1.2213 - mean_squared_error: 1.2213\n",
      "Epoch 53/63\n",
      "11/11 [==============================] - 0s 4ms/step - loss: 1.2762 - mean_squared_error: 1.2762\n",
      "Epoch 54/63\n",
      "11/11 [==============================] - 0s 4ms/step - loss: 1.3242 - mean_squared_error: 1.3242\n",
      "Epoch 55/63\n",
      "11/11 [==============================] - 0s 4ms/step - loss: 1.0042 - mean_squared_error: 1.0042\n",
      "Epoch 56/63\n",
      "11/11 [==============================] - 0s 4ms/step - loss: 1.2399 - mean_squared_error: 1.2399\n",
      "Epoch 57/63\n",
      "11/11 [==============================] - 0s 4ms/step - loss: 1.1436 - mean_squared_error: 1.1436\n",
      "Epoch 58/63\n",
      "11/11 [==============================] - 0s 4ms/step - loss: 0.9685 - mean_squared_error: 0.9685\n",
      "Epoch 59/63\n",
      "11/11 [==============================] - 0s 5ms/step - loss: 1.3984 - mean_squared_error: 1.3984\n",
      "Epoch 60/63\n",
      "11/11 [==============================] - 0s 4ms/step - loss: 1.2607 - mean_squared_error: 1.2607\n",
      "Epoch 61/63\n",
      "11/11 [==============================] - 0s 4ms/step - loss: 1.6262 - mean_squared_error: 1.6262\n",
      "Epoch 62/63\n",
      "11/11 [==============================] - 0s 4ms/step - loss: 1.4562 - mean_squared_error: 1.4562\n",
      "Epoch 63/63\n",
      "11/11 [==============================] - 0s 4ms/step - loss: 1.4525 - mean_squared_error: 1.4525\n",
      "INFO:tensorflow:Assets written to: .\\structured_data_regressor\\best_model\\assets\n"
     ]
    }
   ],
   "source": [
    "# Search\n",
    "search = StructuredDataRegressor(max_trials=30, loss='mean_squared_error')\n",
    "\n",
    "# Perform the search\n",
    "search.fit(x=X_train, y=y_train, verbose=1)"
   ]
  },
  {
   "cell_type": "code",
   "execution_count": 6,
   "metadata": {},
   "outputs": [
    {
     "output_type": "stream",
     "name": "stdout",
     "text": [
      "MAE: 11.781134605407715\n"
     ]
    }
   ],
   "source": [
    "# evaluate the model\n",
    "mae, _ = search.evaluate(X_test, y_test, verbose=0)\n",
    "print(f'MAE: {mae}')"
   ]
  },
  {
   "cell_type": "code",
   "execution_count": 7,
   "metadata": {},
   "outputs": [
    {
     "output_type": "stream",
     "name": "stdout",
     "text": [
      "Model: \"model\"\n_________________________________________________________________\nLayer (type)                 Output Shape              Param #   \n=================================================================\ninput_1 (InputLayer)         [(None, 13)]              0         \n_________________________________________________________________\nmulti_category_encoding (Mul (None, 13)                0         \n_________________________________________________________________\nnormalization (Normalization (None, 13)                27        \n_________________________________________________________________\ndense (Dense)                (None, 32)                448       \n_________________________________________________________________\nbatch_normalization (BatchNo (None, 32)                128       \n_________________________________________________________________\nre_lu (ReLU)                 (None, 32)                0         \n_________________________________________________________________\ndense_1 (Dense)              (None, 1024)              33792     \n_________________________________________________________________\nbatch_normalization_1 (Batch (None, 1024)              4096      \n_________________________________________________________________\nre_lu_1 (ReLU)               (None, 1024)              0         \n_________________________________________________________________\ndense_2 (Dense)              (None, 256)               262400    \n_________________________________________________________________\nbatch_normalization_2 (Batch (None, 256)               1024      \n_________________________________________________________________\nre_lu_2 (ReLU)               (None, 256)               0         \n_________________________________________________________________\nregression_head_1 (Dense)    (None, 1)                 257       \n=================================================================\nTotal params: 302,172\nTrainable params: 299,521\nNon-trainable params: 2,651\n_________________________________________________________________\n"
     ]
    }
   ],
   "source": [
    "# Get the best performing model\n",
    "model = search.export_model()\n",
    "\n",
    "# Summarize the loaded model\n",
    "model.summary()"
   ]
  },
  {
   "cell_type": "code",
   "execution_count": 8,
   "metadata": {},
   "outputs": [
    {
     "output_type": "error",
     "ename": "NotImplementedError",
     "evalue": "Save or restore weights that is not an instance of `tf.Variable` is not supported in h5, use `save_format='tf'` instead. Got a model or layer MultiCategoryEncoding with weights [<tensorflow.python.keras.engine.base_layer_utils.TrackableWeightHandler object at 0x000001BE4DCC27F0>, <tensorflow.python.keras.engine.base_layer_utils.TrackableWeightHandler object at 0x000001BE4DCC2E80>]",
     "traceback": [
      "\u001b[1;31m---------------------------------------------------------------------------\u001b[0m",
      "\u001b[1;31mNotImplementedError\u001b[0m                       Traceback (most recent call last)",
      "\u001b[1;32m<ipython-input-8-3411b218524e>\u001b[0m in \u001b[0;36m<module>\u001b[1;34m\u001b[0m\n\u001b[0;32m      2\u001b[0m     \u001b[0mos\u001b[0m\u001b[1;33m.\u001b[0m\u001b[0mmkdir\u001b[0m\u001b[1;33m(\u001b[0m\u001b[1;34m'model'\u001b[0m\u001b[1;33m)\u001b[0m\u001b[1;33m\u001b[0m\u001b[1;33m\u001b[0m\u001b[0m\n\u001b[0;32m      3\u001b[0m \u001b[1;33m\u001b[0m\u001b[0m\n\u001b[1;32m----> 4\u001b[1;33m \u001b[0mmodel\u001b[0m\u001b[1;33m.\u001b[0m\u001b[0msave\u001b[0m\u001b[1;33m(\u001b[0m\u001b[1;34m'model/boston.h5'\u001b[0m\u001b[1;33m)\u001b[0m\u001b[1;33m\u001b[0m\u001b[1;33m\u001b[0m\u001b[0m\n\u001b[0m",
      "\u001b[1;32m~\\venv\\researchproject\\lib\\site-packages\\tensorflow\\python\\keras\\engine\\training.py\u001b[0m in \u001b[0;36msave\u001b[1;34m(self, filepath, overwrite, include_optimizer, save_format, signatures, options, save_traces)\u001b[0m\n\u001b[0;32m   1999\u001b[0m     \"\"\"\n\u001b[0;32m   2000\u001b[0m     \u001b[1;31m# pylint: enable=line-too-long\u001b[0m\u001b[1;33m\u001b[0m\u001b[1;33m\u001b[0m\u001b[1;33m\u001b[0m\u001b[0m\n\u001b[1;32m-> 2001\u001b[1;33m     save.save_model(self, filepath, overwrite, include_optimizer, save_format,\n\u001b[0m\u001b[0;32m   2002\u001b[0m                     signatures, options, save_traces)\n\u001b[0;32m   2003\u001b[0m \u001b[1;33m\u001b[0m\u001b[0m\n",
      "\u001b[1;32m~\\venv\\researchproject\\lib\\site-packages\\tensorflow\\python\\keras\\saving\\save.py\u001b[0m in \u001b[0;36msave_model\u001b[1;34m(model, filepath, overwrite, include_optimizer, save_format, signatures, options, save_traces)\u001b[0m\n\u001b[0;32m    151\u001b[0m           \u001b[1;34m'to the Tensorflow SavedModel format (by setting save_format=\"tf\") '\u001b[0m\u001b[1;33m\u001b[0m\u001b[1;33m\u001b[0m\u001b[0m\n\u001b[0;32m    152\u001b[0m           'or using `save_weights`.')\n\u001b[1;32m--> 153\u001b[1;33m     hdf5_format.save_model_to_hdf5(\n\u001b[0m\u001b[0;32m    154\u001b[0m         model, filepath, overwrite, include_optimizer)\n\u001b[0;32m    155\u001b[0m   \u001b[1;32melse\u001b[0m\u001b[1;33m:\u001b[0m\u001b[1;33m\u001b[0m\u001b[1;33m\u001b[0m\u001b[0m\n",
      "\u001b[1;32m~\\venv\\researchproject\\lib\\site-packages\\tensorflow\\python\\keras\\saving\\hdf5_format.py\u001b[0m in \u001b[0;36msave_model_to_hdf5\u001b[1;34m(model, filepath, overwrite, include_optimizer)\u001b[0m\n\u001b[0;32m    123\u001b[0m     \u001b[0mmodel_weights_group\u001b[0m \u001b[1;33m=\u001b[0m \u001b[0mf\u001b[0m\u001b[1;33m.\u001b[0m\u001b[0mcreate_group\u001b[0m\u001b[1;33m(\u001b[0m\u001b[1;34m'model_weights'\u001b[0m\u001b[1;33m)\u001b[0m\u001b[1;33m\u001b[0m\u001b[1;33m\u001b[0m\u001b[0m\n\u001b[0;32m    124\u001b[0m     \u001b[0mmodel_layers\u001b[0m \u001b[1;33m=\u001b[0m \u001b[0mmodel\u001b[0m\u001b[1;33m.\u001b[0m\u001b[0mlayers\u001b[0m\u001b[1;33m\u001b[0m\u001b[1;33m\u001b[0m\u001b[0m\n\u001b[1;32m--> 125\u001b[1;33m     \u001b[0msave_weights_to_hdf5_group\u001b[0m\u001b[1;33m(\u001b[0m\u001b[0mmodel_weights_group\u001b[0m\u001b[1;33m,\u001b[0m \u001b[0mmodel_layers\u001b[0m\u001b[1;33m)\u001b[0m\u001b[1;33m\u001b[0m\u001b[1;33m\u001b[0m\u001b[0m\n\u001b[0m\u001b[0;32m    126\u001b[0m \u001b[1;33m\u001b[0m\u001b[0m\n\u001b[0;32m    127\u001b[0m     \u001b[1;31m# TODO(b/128683857): Add integration tests between tf.keras and external\u001b[0m\u001b[1;33m\u001b[0m\u001b[1;33m\u001b[0m\u001b[1;33m\u001b[0m\u001b[0m\n",
      "\u001b[1;32m~\\venv\\researchproject\\lib\\site-packages\\tensorflow\\python\\keras\\saving\\hdf5_format.py\u001b[0m in \u001b[0;36msave_weights_to_hdf5_group\u001b[1;34m(f, layers)\u001b[0m\n\u001b[0;32m    635\u001b[0m   \u001b[1;32mfor\u001b[0m \u001b[0mlayer\u001b[0m \u001b[1;32min\u001b[0m \u001b[0msorted\u001b[0m\u001b[1;33m(\u001b[0m\u001b[0mlayers\u001b[0m\u001b[1;33m,\u001b[0m \u001b[0mkey\u001b[0m\u001b[1;33m=\u001b[0m\u001b[1;32mlambda\u001b[0m \u001b[0mx\u001b[0m\u001b[1;33m:\u001b[0m \u001b[0mx\u001b[0m\u001b[1;33m.\u001b[0m\u001b[0mname\u001b[0m\u001b[1;33m)\u001b[0m\u001b[1;33m:\u001b[0m\u001b[1;33m\u001b[0m\u001b[1;33m\u001b[0m\u001b[0m\n\u001b[0;32m    636\u001b[0m     \u001b[0mg\u001b[0m \u001b[1;33m=\u001b[0m \u001b[0mf\u001b[0m\u001b[1;33m.\u001b[0m\u001b[0mcreate_group\u001b[0m\u001b[1;33m(\u001b[0m\u001b[0mlayer\u001b[0m\u001b[1;33m.\u001b[0m\u001b[0mname\u001b[0m\u001b[1;33m)\u001b[0m\u001b[1;33m\u001b[0m\u001b[1;33m\u001b[0m\u001b[0m\n\u001b[1;32m--> 637\u001b[1;33m     \u001b[0mweights\u001b[0m \u001b[1;33m=\u001b[0m \u001b[0m_legacy_weights\u001b[0m\u001b[1;33m(\u001b[0m\u001b[0mlayer\u001b[0m\u001b[1;33m)\u001b[0m\u001b[1;33m\u001b[0m\u001b[1;33m\u001b[0m\u001b[0m\n\u001b[0m\u001b[0;32m    638\u001b[0m     \u001b[0mweight_values\u001b[0m \u001b[1;33m=\u001b[0m \u001b[0mK\u001b[0m\u001b[1;33m.\u001b[0m\u001b[0mbatch_get_value\u001b[0m\u001b[1;33m(\u001b[0m\u001b[0mweights\u001b[0m\u001b[1;33m)\u001b[0m\u001b[1;33m\u001b[0m\u001b[1;33m\u001b[0m\u001b[0m\n\u001b[0;32m    639\u001b[0m     \u001b[0mweight_names\u001b[0m \u001b[1;33m=\u001b[0m \u001b[1;33m[\u001b[0m\u001b[0mw\u001b[0m\u001b[1;33m.\u001b[0m\u001b[0mname\u001b[0m\u001b[1;33m.\u001b[0m\u001b[0mencode\u001b[0m\u001b[1;33m(\u001b[0m\u001b[1;34m'utf8'\u001b[0m\u001b[1;33m)\u001b[0m \u001b[1;32mfor\u001b[0m \u001b[0mw\u001b[0m \u001b[1;32min\u001b[0m \u001b[0mweights\u001b[0m\u001b[1;33m]\u001b[0m\u001b[1;33m\u001b[0m\u001b[1;33m\u001b[0m\u001b[0m\n",
      "\u001b[1;32m~\\venv\\researchproject\\lib\\site-packages\\tensorflow\\python\\keras\\saving\\hdf5_format.py\u001b[0m in \u001b[0;36m_legacy_weights\u001b[1;34m(layer)\u001b[0m\n\u001b[0;32m    881\u001b[0m   \u001b[0mweights\u001b[0m \u001b[1;33m=\u001b[0m \u001b[0mlayer\u001b[0m\u001b[1;33m.\u001b[0m\u001b[0mtrainable_weights\u001b[0m \u001b[1;33m+\u001b[0m \u001b[0mlayer\u001b[0m\u001b[1;33m.\u001b[0m\u001b[0mnon_trainable_weights\u001b[0m\u001b[1;33m\u001b[0m\u001b[1;33m\u001b[0m\u001b[0m\n\u001b[0;32m    882\u001b[0m   \u001b[1;32mif\u001b[0m \u001b[0many\u001b[0m\u001b[1;33m(\u001b[0m\u001b[1;32mnot\u001b[0m \u001b[0misinstance\u001b[0m\u001b[1;33m(\u001b[0m\u001b[0mw\u001b[0m\u001b[1;33m,\u001b[0m \u001b[0mvariables_module\u001b[0m\u001b[1;33m.\u001b[0m\u001b[0mVariable\u001b[0m\u001b[1;33m)\u001b[0m \u001b[1;32mfor\u001b[0m \u001b[0mw\u001b[0m \u001b[1;32min\u001b[0m \u001b[0mweights\u001b[0m\u001b[1;33m)\u001b[0m\u001b[1;33m:\u001b[0m\u001b[1;33m\u001b[0m\u001b[1;33m\u001b[0m\u001b[0m\n\u001b[1;32m--> 883\u001b[1;33m     raise NotImplementedError(\n\u001b[0m\u001b[0;32m    884\u001b[0m         \u001b[1;34m'Save or restore weights that is not an instance of `tf.Variable` is '\u001b[0m\u001b[1;33m\u001b[0m\u001b[1;33m\u001b[0m\u001b[0m\n\u001b[0;32m    885\u001b[0m         \u001b[1;34m'not supported in h5, use `save_format=\\'tf\\'` instead. Got a model '\u001b[0m\u001b[1;33m\u001b[0m\u001b[1;33m\u001b[0m\u001b[0m\n",
      "\u001b[1;31mNotImplementedError\u001b[0m: Save or restore weights that is not an instance of `tf.Variable` is not supported in h5, use `save_format='tf'` instead. Got a model or layer MultiCategoryEncoding with weights [<tensorflow.python.keras.engine.base_layer_utils.TrackableWeightHandler object at 0x000001BE4DCC27F0>, <tensorflow.python.keras.engine.base_layer_utils.TrackableWeightHandler object at 0x000001BE4DCC2E80>]"
     ]
    }
   ],
   "source": [
    "if not os.path.isdir('model'):\n",
    "    os.mkdir('model')\n",
    "\n",
    "model.save('model/boston.h5')"
   ]
  }
 ]
}